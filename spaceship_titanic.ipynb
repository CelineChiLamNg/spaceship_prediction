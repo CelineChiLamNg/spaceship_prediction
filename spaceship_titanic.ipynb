{
 "cells": [
  {
   "metadata": {},
   "cell_type": "markdown",
   "source": [
    "<h1><center>Spaceship Titanic Prediction - Supervised Learning</center></h1>\n",
    "<center>October 2024</center>\n",
    "<center>Celine Ng</center>"
   ],
   "id": "9011d0e36d6ecc6"
  },
  {
   "metadata": {},
   "cell_type": "markdown",
   "source": [
    "# Table of Contents\n",
    "\n",
    "1. Project Introduction   \n",
    "    1. Notebook Preparation\n",
    "    1. Dataset\n",
    "1. Data Cleaning\n",
    "    1. Duplicate rows\n",
    "    1. Datatypes\n",
    "    1. Unique values\n",
    "    1. Missing values\n",
    "1. EDA\n",
    "    1. Distribution\n",
    "    1. Distribution according to target label\n",
    "    1. Missing Values\n",
    "1. Data Formatting\n",
    "1. Preprocessing\n",
    "    1. Transformations\n",
    "    1. Data Splitting\n",
    "1. Models\n",
    "    1. Basic model\n",
    "    1. Baseline model\n",
    "    1. Hyperparameter Tuning\n",
    "    1. Best model on test data\n",
    "    1. Model Interpretation \n",
    "1. Deploy the model\n",
    "1. Improvements"
   ],
   "id": "b1981e55556d9b87"
  },
  {
   "metadata": {},
   "cell_type": "markdown",
   "source": "# 1. Project Introduction",
   "id": "3d888ea54ba03502"
  },
  {
   "metadata": {},
   "cell_type": "markdown",
   "source": "## 1.1. Notebook Preparation",
   "id": "2db970b92d582f27"
  },
  {
   "cell_type": "code",
   "id": "initial_id",
   "metadata": {
    "collapsed": true,
    "ExecuteTime": {
     "end_time": "2024-10-19T14:57:18.567628Z",
     "start_time": "2024-10-19T14:57:04.258591Z"
    }
   },
   "source": [
    "%%capture\n",
    "%pip install -r requirements.txt"
   ],
   "outputs": [],
   "execution_count": 1
  },
  {
   "metadata": {
    "ExecuteTime": {
     "end_time": "2024-10-19T15:00:48.619226Z",
     "start_time": "2024-10-19T15:00:46.049720Z"
    }
   },
   "cell_type": "code",
   "source": [
    "from IPython.display import HTML\n",
    "import pandas as pd\n",
    "import numpy as np\n",
    "import matplotlib.pyplot as plt\n",
    "import seaborn as sns\n",
    "from utils.eda import *\n",
    "from utils.model import *\n",
    "\n",
    "from sklearn.compose import make_column_selector as selector\n",
    "from sklearn.model_selection import (train_test_split, StratifiedKFold, \n",
    "                                     cross_validate, GridSearchCV)\n",
    "\n",
    "from sklearn.pipeline import Pipeline\n",
    "from sklearn.preprocessing import (OneHotEncoder, FunctionTransformer,\n",
    "                                   StandardScaler)\n",
    "from sklearn.compose import ColumnTransformer\n",
    "\n",
    "from sklearn.ensemble import RandomForestClassifier\n",
    "import xgboost as xgb\n",
    "import lightgbm as lgb\n",
    "from sklearn.linear_model import LogisticRegression\n",
    "from sklearn.dummy import DummyClassifier\n",
    "from sklearn.metrics import (accuracy_score, roc_auc_score, f1_score, \n",
    "                             precision_score, recall_score, make_scorer)\n",
    "import graphviz\n",
    "import shap\n",
    "import pickle\n",
    "from fastapi import FastAPI"
   ],
   "id": "b2720890de545458",
   "outputs": [],
   "execution_count": 3
  },
  {
   "metadata": {},
   "cell_type": "markdown",
   "source": [
    "## 1.2. Dataset\n",
    "\n",
    "Objective: Brief overview of our dataset, including the features and target \n",
    "variable"
   ],
   "id": "1080aa8fa3cdb3dd"
  },
  {
   "metadata": {},
   "cell_type": "markdown",
   "source": [
    "The dataset was downloaded from Kaggle, [Spaceship Titanic](https://www.kaggle.com/competitions/spaceship-titanic/data?select=train.csv)\n",
    ", on 18 October 2024. <br>\n",
    "This dataset is part of an open Kaggle competition, \n",
    "where the task is to predict whether a passenger was transported to an \n",
    "alternate dimension during the Spaceship Titanic's collision with the \n",
    "spacetime anomaly. <br>\n",
    "The data originally comes in 2 separate datasets, *train.csv* and *test.csv*\n",
    ". Each dataset contains a set of personal records recovered from the ship's\n",
    " damaged computer system. There are 13 columns of personal records, and the \n",
    " 14th column is the target."
   ],
   "id": "885c47af483c7274"
  },
  {
   "metadata": {},
   "cell_type": "markdown",
   "source": [
    "- train.csv - Personal records for about two-thirds (~8700) of the \n",
    "passengers, to be used as training data.\n",
    "- test.csv - Personal records for the remaining one-third (~4300) of the \n",
    "passengers, to be used as test data. Does not include the target variable. \n",
    "My task is to predict the value of Transported for the passengers in this set.\n",
    "<ol>\n",
    "<li>PassengerId - A unique Id for each passenger. Each Id takes the form \n",
    "gggg_pp where gggg indicates a group the passenger is travelling with and pp\n",
    " is their number within the group. People in a group are often family \n",
    " members, but not always.</li>\n",
    "<li>HomePlanet - The planet the passenger departed from, typically their planet\n",
    " of permanent residence.</li>\n",
    "<li>CryoSleep - Indicates whether the passenger elected to be put into \n",
    "suspended animation for the duration of the voyage. Passengers in cryosleep \n",
    "are confined to their cabins.</li>\n",
    "<li>Cabin - The cabin number where the passenger is staying. Takes the form \n",
    "deck/num/side, where side can be either P for Port or S for Starboard.</li>\n",
    "<li>Destination - The planet the passenger will be debarking to.</li>\n",
    "<li>Age - The age of the passenger.</li>\n",
    "<li>VIP - Whether the passenger has paid for special VIP service during the \n",
    "voyage.</li>\n",
    "<li>RoomService - Amount the passenger has billed at this luxury amenity. </li>\n",
    "<li>FoodCourt - Amount the passenger has billed at this luxury amenity. </li>\n",
    "<li>ShoppingMall - Amount the passenger has billed at this luxury amenity. </li>\n",
    "<li>Spa - Amount the passenger has billed at this luxury amenity. </li>\n",
    "<li>VRDeck - Amount the passenger has billed at this luxury amenity. </li>\n",
    "<li>Name - The first and last names of the passenger.</li>\n",
    "<li>Transported - Whether the passenger was transported to another dimension. \n",
    "This is the target, the column I am trying to predict.</li>\n",
    "</ol>"
   ],
   "id": "33d62dd754768077"
  },
  {
   "metadata": {
    "ExecuteTime": {
     "end_time": "2024-10-19T16:31:31.545380Z",
     "start_time": "2024-10-19T16:31:31.524462Z"
    }
   },
   "cell_type": "code",
   "source": [
    "spaceship_train = pd.read_csv('data/train.csv')\n",
    "display(spaceship_train.head())\n",
    "spaceship_train_shape = spaceship_train.shape\n",
    "print(f\"Number of rows on train data: {spaceship_train_shape[0]}\\nNumber of \"\n",
    "      f\"columns on train data: {spaceship_train_shape[1]}\")"
   ],
   "id": "9608648f00d29eb8",
   "outputs": [
    {
     "data": {
      "text/plain": [
       "  PassengerId HomePlanet CryoSleep  Cabin  Destination   Age    VIP  \\\n",
       "0     0001_01     Europa     False  B/0/P  TRAPPIST-1e  39.0  False   \n",
       "1     0002_01      Earth     False  F/0/S  TRAPPIST-1e  24.0  False   \n",
       "2     0003_01     Europa     False  A/0/S  TRAPPIST-1e  58.0   True   \n",
       "3     0003_02     Europa     False  A/0/S  TRAPPIST-1e  33.0  False   \n",
       "4     0004_01      Earth     False  F/1/S  TRAPPIST-1e  16.0  False   \n",
       "\n",
       "   RoomService  FoodCourt  ShoppingMall     Spa  VRDeck               Name  \\\n",
       "0          0.0        0.0           0.0     0.0     0.0    Maham Ofracculy   \n",
       "1        109.0        9.0          25.0   549.0    44.0       Juanna Vines   \n",
       "2         43.0     3576.0           0.0  6715.0    49.0      Altark Susent   \n",
       "3          0.0     1283.0         371.0  3329.0   193.0       Solam Susent   \n",
       "4        303.0       70.0         151.0   565.0     2.0  Willy Santantines   \n",
       "\n",
       "   Transported  \n",
       "0        False  \n",
       "1         True  \n",
       "2        False  \n",
       "3        False  \n",
       "4         True  "
      ],
      "text/html": [
       "<div>\n",
       "<style scoped>\n",
       "    .dataframe tbody tr th:only-of-type {\n",
       "        vertical-align: middle;\n",
       "    }\n",
       "\n",
       "    .dataframe tbody tr th {\n",
       "        vertical-align: top;\n",
       "    }\n",
       "\n",
       "    .dataframe thead th {\n",
       "        text-align: right;\n",
       "    }\n",
       "</style>\n",
       "<table border=\"1\" class=\"dataframe\">\n",
       "  <thead>\n",
       "    <tr style=\"text-align: right;\">\n",
       "      <th></th>\n",
       "      <th>PassengerId</th>\n",
       "      <th>HomePlanet</th>\n",
       "      <th>CryoSleep</th>\n",
       "      <th>Cabin</th>\n",
       "      <th>Destination</th>\n",
       "      <th>Age</th>\n",
       "      <th>VIP</th>\n",
       "      <th>RoomService</th>\n",
       "      <th>FoodCourt</th>\n",
       "      <th>ShoppingMall</th>\n",
       "      <th>Spa</th>\n",
       "      <th>VRDeck</th>\n",
       "      <th>Name</th>\n",
       "      <th>Transported</th>\n",
       "    </tr>\n",
       "  </thead>\n",
       "  <tbody>\n",
       "    <tr>\n",
       "      <th>0</th>\n",
       "      <td>0001_01</td>\n",
       "      <td>Europa</td>\n",
       "      <td>False</td>\n",
       "      <td>B/0/P</td>\n",
       "      <td>TRAPPIST-1e</td>\n",
       "      <td>39.0</td>\n",
       "      <td>False</td>\n",
       "      <td>0.0</td>\n",
       "      <td>0.0</td>\n",
       "      <td>0.0</td>\n",
       "      <td>0.0</td>\n",
       "      <td>0.0</td>\n",
       "      <td>Maham Ofracculy</td>\n",
       "      <td>False</td>\n",
       "    </tr>\n",
       "    <tr>\n",
       "      <th>1</th>\n",
       "      <td>0002_01</td>\n",
       "      <td>Earth</td>\n",
       "      <td>False</td>\n",
       "      <td>F/0/S</td>\n",
       "      <td>TRAPPIST-1e</td>\n",
       "      <td>24.0</td>\n",
       "      <td>False</td>\n",
       "      <td>109.0</td>\n",
       "      <td>9.0</td>\n",
       "      <td>25.0</td>\n",
       "      <td>549.0</td>\n",
       "      <td>44.0</td>\n",
       "      <td>Juanna Vines</td>\n",
       "      <td>True</td>\n",
       "    </tr>\n",
       "    <tr>\n",
       "      <th>2</th>\n",
       "      <td>0003_01</td>\n",
       "      <td>Europa</td>\n",
       "      <td>False</td>\n",
       "      <td>A/0/S</td>\n",
       "      <td>TRAPPIST-1e</td>\n",
       "      <td>58.0</td>\n",
       "      <td>True</td>\n",
       "      <td>43.0</td>\n",
       "      <td>3576.0</td>\n",
       "      <td>0.0</td>\n",
       "      <td>6715.0</td>\n",
       "      <td>49.0</td>\n",
       "      <td>Altark Susent</td>\n",
       "      <td>False</td>\n",
       "    </tr>\n",
       "    <tr>\n",
       "      <th>3</th>\n",
       "      <td>0003_02</td>\n",
       "      <td>Europa</td>\n",
       "      <td>False</td>\n",
       "      <td>A/0/S</td>\n",
       "      <td>TRAPPIST-1e</td>\n",
       "      <td>33.0</td>\n",
       "      <td>False</td>\n",
       "      <td>0.0</td>\n",
       "      <td>1283.0</td>\n",
       "      <td>371.0</td>\n",
       "      <td>3329.0</td>\n",
       "      <td>193.0</td>\n",
       "      <td>Solam Susent</td>\n",
       "      <td>False</td>\n",
       "    </tr>\n",
       "    <tr>\n",
       "      <th>4</th>\n",
       "      <td>0004_01</td>\n",
       "      <td>Earth</td>\n",
       "      <td>False</td>\n",
       "      <td>F/1/S</td>\n",
       "      <td>TRAPPIST-1e</td>\n",
       "      <td>16.0</td>\n",
       "      <td>False</td>\n",
       "      <td>303.0</td>\n",
       "      <td>70.0</td>\n",
       "      <td>151.0</td>\n",
       "      <td>565.0</td>\n",
       "      <td>2.0</td>\n",
       "      <td>Willy Santantines</td>\n",
       "      <td>True</td>\n",
       "    </tr>\n",
       "  </tbody>\n",
       "</table>\n",
       "</div>"
      ]
     },
     "metadata": {},
     "output_type": "display_data"
    },
    {
     "name": "stdout",
     "output_type": "stream",
     "text": [
      "Number of rows on train data: 8693\n",
      "Number of columns on train data: 14\n"
     ]
    }
   ],
   "execution_count": 12
  },
  {
   "metadata": {},
   "cell_type": "markdown",
   "source": [
    "# 2.  Data cleaning\n",
    "Objective:\n",
    "1. Closer look at the values that consist of our data\n",
    "2. Look out for duplicates, and missing and/or unusual values"
   ],
   "id": "395a2bf468c8f0de"
  },
  {
   "metadata": {},
   "cell_type": "code",
   "outputs": [],
   "execution_count": null,
   "source": "",
   "id": "7357d3d58002207f"
  }
 ],
 "metadata": {
  "kernelspec": {
   "display_name": "Python 3",
   "language": "python",
   "name": "python3"
  },
  "language_info": {
   "codemirror_mode": {
    "name": "ipython",
    "version": 2
   },
   "file_extension": ".py",
   "mimetype": "text/x-python",
   "name": "python",
   "nbconvert_exporter": "python",
   "pygments_lexer": "ipython2",
   "version": "2.7.6"
  }
 },
 "nbformat": 4,
 "nbformat_minor": 5
}
