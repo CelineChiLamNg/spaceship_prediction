{
 "cells": [
  {
   "metadata": {},
   "cell_type": "markdown",
   "source": [
    "<h1><center>Spaceship Titanic Prediction - Supervised Learning</center></h1>\n",
    "<center>October 2024</center>\n",
    "<center>Celine Ng</center>"
   ],
   "id": "9011d0e36d6ecc6"
  },
  {
   "metadata": {},
   "cell_type": "markdown",
   "source": [
    "# Table of Contents\n",
    "\n",
    "1. Project Introduction   \n",
    "    1. Notebook Preparation\n",
    "    1. Dataset\n",
    "1. Initial Data Cleaning\n",
    "    1. Duplicate rows\n",
    "    1. Datatypes\n",
    "    1. Missing values\n",
    "1. EDA\n",
    "    1. Distribution\n",
    "    1. Distribution according to target label\n",
    "    1. Missing Values\n",
    "    1. Values\n",
    "1. Data Formatting\n",
    "1. Preprocessing\n",
    "    1. Transformations\n",
    "    1. Data Splitting\n",
    "1. Models\n",
    "    1. Basic model\n",
    "    1. Baseline model\n",
    "    1. Hyperparameter Tuning\n",
    "    1. Best model on test data\n",
    "    1. Model Interpretation \n",
    "1. Deploy the model\n",
    "1. Improvements"
   ],
   "id": "b1981e55556d9b87"
  },
  {
   "metadata": {},
   "cell_type": "markdown",
   "source": "# 1. Project Introduction",
   "id": "3d888ea54ba03502"
  },
  {
   "metadata": {},
   "cell_type": "markdown",
   "source": "## 1.1. Notebook Preparation",
   "id": "2db970b92d582f27"
  },
  {
   "cell_type": "code",
   "id": "initial_id",
   "metadata": {
    "collapsed": true,
    "ExecuteTime": {
     "end_time": "2024-10-22T19:41:27.513383Z",
     "start_time": "2024-10-22T19:41:26.640973Z"
    }
   },
   "source": [
    "%%capture\n",
    "%pip install -r requirements.txt"
   ],
   "outputs": [],
   "execution_count": 1
  },
  {
   "metadata": {
    "ExecuteTime": {
     "end_time": "2024-10-22T19:41:27.976207Z",
     "start_time": "2024-10-22T19:41:27.515079Z"
    }
   },
   "cell_type": "code",
   "source": [
    "from IPython.display import HTML\n",
    "import pandas as pd\n",
    "import numpy as np\n",
    "import matplotlib.pyplot as plt\n",
    "import seaborn as sns\n",
    "from utils.eda import *\n",
    "from utils.model import *\n",
    "\n",
    "from sklearn.compose import make_column_selector as selector\n",
    "from sklearn.model_selection import (train_test_split, StratifiedKFold, \n",
    "                                     cross_validate, GridSearchCV)\n",
    "\n",
    "from sklearn.pipeline import Pipeline\n",
    "from sklearn.preprocessing import (OneHotEncoder, FunctionTransformer,\n",
    "                                   StandardScaler)\n",
    "from sklearn.compose import ColumnTransformer\n",
    "\n",
    "from sklearn.ensemble import RandomForestClassifier\n",
    "import xgboost as xgb\n",
    "import lightgbm as lgb\n",
    "from sklearn.linear_model import LogisticRegression\n",
    "from sklearn.dummy import DummyClassifier\n",
    "from sklearn.metrics import (accuracy_score, roc_auc_score, f1_score, \n",
    "                             precision_score, recall_score, make_scorer)\n",
    "import graphviz\n",
    "import shap\n",
    "import pickle\n",
    "from fastapi import FastAPI"
   ],
   "id": "b2720890de545458",
   "outputs": [],
   "execution_count": 2
  },
  {
   "metadata": {},
   "cell_type": "markdown",
   "source": [
    "## 1.2. Dataset\n",
    "\n",
    "Objective: Brief overview of our dataset, including the features and target \n",
    "variable"
   ],
   "id": "1080aa8fa3cdb3dd"
  },
  {
   "metadata": {},
   "cell_type": "markdown",
   "source": [
    "The dataset was downloaded from Kaggle, [Spaceship Titanic](https://www.kaggle.com/competitions/spaceship-titanic/data?select=train.csv)\n",
    ", on 18 October 2024. <br>\n",
    "This dataset is part of an open Kaggle competition, \n",
    "where the task is to predict whether a passenger was transported to an \n",
    "alternate dimension during the Spaceship Titanic's collision with the \n",
    "spacetime anomaly. <br>\n",
    "The data originally comes in 2 separate datasets, *train.csv* and *test.csv*\n",
    ". Each dataset contains a set of personal records recovered from the ship's\n",
    " damaged computer system. There are 13 columns of personal records, and the \n",
    " 14th column is the target."
   ],
   "id": "885c47af483c7274"
  },
  {
   "metadata": {},
   "cell_type": "markdown",
   "source": [
    "- train.csv - Personal records for about two-thirds (~8700) of the \n",
    "passengers, to be used as training data.\n",
    "- test.csv - Personal records for the remaining one-third (~4300) of the \n",
    "passengers, to be used as test data. Does not include the target variable. \n",
    "My task is to predict the value of Transported for the passengers in this set.\n",
    "<ol>\n",
    "<li>PassengerId - A unique Id for each passenger. Each Id takes the form \n",
    "gggg_pp where gggg indicates a group the passenger is travelling with and pp\n",
    " is their number within the group. People in a group are often family \n",
    " members, but not always.</li>\n",
    "<li>HomePlanet - The planet the passenger departed from, typically their planet\n",
    " of permanent residence.</li>\n",
    "<li>CryoSleep - Indicates whether the passenger elected to be put into \n",
    "suspended animation for the duration of the voyage. Passengers in cryosleep \n",
    "are confined to their cabins.</li>\n",
    "<li>Cabin - The cabin number where the passenger is staying. Takes the form \n",
    "deck/num/side, where side can be either P for Port or S for Starboard.</li>\n",
    "<li>Destination - The planet the passenger will be debarking to.</li>\n",
    "<li>Age - The age of the passenger.</li>\n",
    "<li>VIP - Whether the passenger has paid for special VIP service during the \n",
    "voyage.</li>\n",
    "<li>RoomService - Amount the passenger has billed at this luxury amenity. </li>\n",
    "<li>FoodCourt - Amount the passenger has billed at this luxury amenity. </li>\n",
    "<li>ShoppingMall - Amount the passenger has billed at this luxury amenity. </li>\n",
    "<li>Spa - Amount the passenger has billed at this luxury amenity. </li>\n",
    "<li>VRDeck - Amount the passenger has billed at this luxury amenity. </li>\n",
    "<li>Name - The first and last names of the passenger.</li>\n",
    "<li>Transported - Whether the passenger was transported to another dimension. \n",
    "This is the target, the column I am trying to predict.</li>\n",
    "</ol>"
   ],
   "id": "33d62dd754768077"
  },
  {
   "metadata": {
    "ExecuteTime": {
     "end_time": "2024-10-22T19:41:27.993689Z",
     "start_time": "2024-10-22T19:41:27.976888Z"
    }
   },
   "cell_type": "code",
   "source": [
    "spaceship_train = pd.read_csv('data/train.csv')\n",
    "display(spaceship_train.head())\n",
    "spaceship_train_shape = spaceship_train.shape\n",
    "print(f\"Number of rows on train data: {spaceship_train_shape[0]}\\nNumber of \"\n",
    "      f\"columns on train data: {spaceship_train_shape[1]}\")"
   ],
   "id": "9608648f00d29eb8",
   "outputs": [
    {
     "data": {
      "text/plain": [
       "  PassengerId HomePlanet CryoSleep  Cabin  Destination   Age    VIP  \\\n",
       "0     0001_01     Europa     False  B/0/P  TRAPPIST-1e  39.0  False   \n",
       "1     0002_01      Earth     False  F/0/S  TRAPPIST-1e  24.0  False   \n",
       "2     0003_01     Europa     False  A/0/S  TRAPPIST-1e  58.0   True   \n",
       "3     0003_02     Europa     False  A/0/S  TRAPPIST-1e  33.0  False   \n",
       "4     0004_01      Earth     False  F/1/S  TRAPPIST-1e  16.0  False   \n",
       "\n",
       "   RoomService  FoodCourt  ShoppingMall     Spa  VRDeck               Name  \\\n",
       "0          0.0        0.0           0.0     0.0     0.0    Maham Ofracculy   \n",
       "1        109.0        9.0          25.0   549.0    44.0       Juanna Vines   \n",
       "2         43.0     3576.0           0.0  6715.0    49.0      Altark Susent   \n",
       "3          0.0     1283.0         371.0  3329.0   193.0       Solam Susent   \n",
       "4        303.0       70.0         151.0   565.0     2.0  Willy Santantines   \n",
       "\n",
       "   Transported  \n",
       "0        False  \n",
       "1         True  \n",
       "2        False  \n",
       "3        False  \n",
       "4         True  "
      ],
      "text/html": [
       "<div>\n",
       "<style scoped>\n",
       "    .dataframe tbody tr th:only-of-type {\n",
       "        vertical-align: middle;\n",
       "    }\n",
       "\n",
       "    .dataframe tbody tr th {\n",
       "        vertical-align: top;\n",
       "    }\n",
       "\n",
       "    .dataframe thead th {\n",
       "        text-align: right;\n",
       "    }\n",
       "</style>\n",
       "<table border=\"1\" class=\"dataframe\">\n",
       "  <thead>\n",
       "    <tr style=\"text-align: right;\">\n",
       "      <th></th>\n",
       "      <th>PassengerId</th>\n",
       "      <th>HomePlanet</th>\n",
       "      <th>CryoSleep</th>\n",
       "      <th>Cabin</th>\n",
       "      <th>Destination</th>\n",
       "      <th>Age</th>\n",
       "      <th>VIP</th>\n",
       "      <th>RoomService</th>\n",
       "      <th>FoodCourt</th>\n",
       "      <th>ShoppingMall</th>\n",
       "      <th>Spa</th>\n",
       "      <th>VRDeck</th>\n",
       "      <th>Name</th>\n",
       "      <th>Transported</th>\n",
       "    </tr>\n",
       "  </thead>\n",
       "  <tbody>\n",
       "    <tr>\n",
       "      <th>0</th>\n",
       "      <td>0001_01</td>\n",
       "      <td>Europa</td>\n",
       "      <td>False</td>\n",
       "      <td>B/0/P</td>\n",
       "      <td>TRAPPIST-1e</td>\n",
       "      <td>39.0</td>\n",
       "      <td>False</td>\n",
       "      <td>0.0</td>\n",
       "      <td>0.0</td>\n",
       "      <td>0.0</td>\n",
       "      <td>0.0</td>\n",
       "      <td>0.0</td>\n",
       "      <td>Maham Ofracculy</td>\n",
       "      <td>False</td>\n",
       "    </tr>\n",
       "    <tr>\n",
       "      <th>1</th>\n",
       "      <td>0002_01</td>\n",
       "      <td>Earth</td>\n",
       "      <td>False</td>\n",
       "      <td>F/0/S</td>\n",
       "      <td>TRAPPIST-1e</td>\n",
       "      <td>24.0</td>\n",
       "      <td>False</td>\n",
       "      <td>109.0</td>\n",
       "      <td>9.0</td>\n",
       "      <td>25.0</td>\n",
       "      <td>549.0</td>\n",
       "      <td>44.0</td>\n",
       "      <td>Juanna Vines</td>\n",
       "      <td>True</td>\n",
       "    </tr>\n",
       "    <tr>\n",
       "      <th>2</th>\n",
       "      <td>0003_01</td>\n",
       "      <td>Europa</td>\n",
       "      <td>False</td>\n",
       "      <td>A/0/S</td>\n",
       "      <td>TRAPPIST-1e</td>\n",
       "      <td>58.0</td>\n",
       "      <td>True</td>\n",
       "      <td>43.0</td>\n",
       "      <td>3576.0</td>\n",
       "      <td>0.0</td>\n",
       "      <td>6715.0</td>\n",
       "      <td>49.0</td>\n",
       "      <td>Altark Susent</td>\n",
       "      <td>False</td>\n",
       "    </tr>\n",
       "    <tr>\n",
       "      <th>3</th>\n",
       "      <td>0003_02</td>\n",
       "      <td>Europa</td>\n",
       "      <td>False</td>\n",
       "      <td>A/0/S</td>\n",
       "      <td>TRAPPIST-1e</td>\n",
       "      <td>33.0</td>\n",
       "      <td>False</td>\n",
       "      <td>0.0</td>\n",
       "      <td>1283.0</td>\n",
       "      <td>371.0</td>\n",
       "      <td>3329.0</td>\n",
       "      <td>193.0</td>\n",
       "      <td>Solam Susent</td>\n",
       "      <td>False</td>\n",
       "    </tr>\n",
       "    <tr>\n",
       "      <th>4</th>\n",
       "      <td>0004_01</td>\n",
       "      <td>Earth</td>\n",
       "      <td>False</td>\n",
       "      <td>F/1/S</td>\n",
       "      <td>TRAPPIST-1e</td>\n",
       "      <td>16.0</td>\n",
       "      <td>False</td>\n",
       "      <td>303.0</td>\n",
       "      <td>70.0</td>\n",
       "      <td>151.0</td>\n",
       "      <td>565.0</td>\n",
       "      <td>2.0</td>\n",
       "      <td>Willy Santantines</td>\n",
       "      <td>True</td>\n",
       "    </tr>\n",
       "  </tbody>\n",
       "</table>\n",
       "</div>"
      ]
     },
     "metadata": {},
     "output_type": "display_data"
    },
    {
     "name": "stdout",
     "output_type": "stream",
     "text": [
      "Number of rows on train data: 8693\n",
      "Number of columns on train data: 14\n"
     ]
    }
   ],
   "execution_count": 3
  },
  {
   "metadata": {},
   "cell_type": "markdown",
   "source": [
    "# 2. Initial Data cleaning\n",
    "Objective:\n",
    "1. Closer look at the values that consist of our data\n",
    "2. Look out for duplicates, and missing and/or unusual values"
   ],
   "id": "395a2bf468c8f0de"
  },
  {
   "metadata": {},
   "cell_type": "markdown",
   "source": "## 2.1. Duplicate rows",
   "id": "e03de83dcb42f92f"
  },
  {
   "metadata": {
    "ExecuteTime": {
     "end_time": "2024-10-22T19:41:27.997317Z",
     "start_time": "2024-10-22T19:41:27.994977Z"
    }
   },
   "cell_type": "code",
   "source": "print(spaceship_train['PassengerId'].duplicated().any())",
   "id": "7357d3d58002207f",
   "outputs": [
    {
     "name": "stdout",
     "output_type": "stream",
     "text": [
      "False\n"
     ]
    }
   ],
   "execution_count": 4
  },
  {
   "metadata": {},
   "cell_type": "markdown",
   "source": "## 2.2. Datatypes",
   "id": "476f956b59bfa974"
  },
  {
   "metadata": {
    "ExecuteTime": {
     "end_time": "2024-10-22T19:41:28.000355Z",
     "start_time": "2024-10-22T19:41:27.997842Z"
    }
   },
   "cell_type": "code",
   "source": "spaceship_train.dtypes",
   "id": "5b803c01bd1d591",
   "outputs": [
    {
     "data": {
      "text/plain": [
       "PassengerId      object\n",
       "HomePlanet       object\n",
       "CryoSleep        object\n",
       "Cabin            object\n",
       "Destination      object\n",
       "Age             float64\n",
       "VIP              object\n",
       "RoomService     float64\n",
       "FoodCourt       float64\n",
       "ShoppingMall    float64\n",
       "Spa             float64\n",
       "VRDeck          float64\n",
       "Name             object\n",
       "Transported        bool\n",
       "dtype: object"
      ]
     },
     "execution_count": 5,
     "metadata": {},
     "output_type": "execute_result"
    }
   ],
   "execution_count": 5
  },
  {
   "metadata": {},
   "cell_type": "markdown",
   "source": "## 2.3. Missing values",
   "id": "487aa97bbb1db40b"
  },
  {
   "metadata": {
    "ExecuteTime": {
     "end_time": "2024-10-22T19:41:28.004194Z",
     "start_time": "2024-10-22T19:41:28.000858Z"
    }
   },
   "cell_type": "code",
   "source": "print(spaceship_train.isnull().sum().sum())",
   "id": "ab620f3ecc58a660",
   "outputs": [
    {
     "name": "stdout",
     "output_type": "stream",
     "text": [
      "2324\n"
     ]
    }
   ],
   "execution_count": 6
  },
  {
   "metadata": {
    "ExecuteTime": {
     "end_time": "2024-10-22T19:41:28.010827Z",
     "start_time": "2024-10-22T19:41:28.004803Z"
    }
   },
   "cell_type": "code",
   "source": "missing_values(df=spaceship_train)",
   "id": "c469fc7afc70d9e8",
   "outputs": [
    {
     "data": {
      "text/plain": [
       "              Missing Values  Percentage Missing\n",
       "PassengerId                0                0.00\n",
       "HomePlanet               201                2.31\n",
       "CryoSleep                217                2.50\n",
       "Cabin                    199                2.29\n",
       "Destination              182                2.09\n",
       "Age                      179                2.06\n",
       "VIP                      203                2.34\n",
       "RoomService              181                2.08\n",
       "FoodCourt                183                2.11\n",
       "ShoppingMall             208                2.39\n",
       "Spa                      183                2.11\n",
       "VRDeck                   188                2.16\n",
       "Name                     200                2.30\n",
       "Transported                0                0.00"
      ],
      "text/html": [
       "<div>\n",
       "<style scoped>\n",
       "    .dataframe tbody tr th:only-of-type {\n",
       "        vertical-align: middle;\n",
       "    }\n",
       "\n",
       "    .dataframe tbody tr th {\n",
       "        vertical-align: top;\n",
       "    }\n",
       "\n",
       "    .dataframe thead th {\n",
       "        text-align: right;\n",
       "    }\n",
       "</style>\n",
       "<table border=\"1\" class=\"dataframe\">\n",
       "  <thead>\n",
       "    <tr style=\"text-align: right;\">\n",
       "      <th></th>\n",
       "      <th>Missing Values</th>\n",
       "      <th>Percentage Missing</th>\n",
       "    </tr>\n",
       "  </thead>\n",
       "  <tbody>\n",
       "    <tr>\n",
       "      <th>PassengerId</th>\n",
       "      <td>0</td>\n",
       "      <td>0.00</td>\n",
       "    </tr>\n",
       "    <tr>\n",
       "      <th>HomePlanet</th>\n",
       "      <td>201</td>\n",
       "      <td>2.31</td>\n",
       "    </tr>\n",
       "    <tr>\n",
       "      <th>CryoSleep</th>\n",
       "      <td>217</td>\n",
       "      <td>2.50</td>\n",
       "    </tr>\n",
       "    <tr>\n",
       "      <th>Cabin</th>\n",
       "      <td>199</td>\n",
       "      <td>2.29</td>\n",
       "    </tr>\n",
       "    <tr>\n",
       "      <th>Destination</th>\n",
       "      <td>182</td>\n",
       "      <td>2.09</td>\n",
       "    </tr>\n",
       "    <tr>\n",
       "      <th>Age</th>\n",
       "      <td>179</td>\n",
       "      <td>2.06</td>\n",
       "    </tr>\n",
       "    <tr>\n",
       "      <th>VIP</th>\n",
       "      <td>203</td>\n",
       "      <td>2.34</td>\n",
       "    </tr>\n",
       "    <tr>\n",
       "      <th>RoomService</th>\n",
       "      <td>181</td>\n",
       "      <td>2.08</td>\n",
       "    </tr>\n",
       "    <tr>\n",
       "      <th>FoodCourt</th>\n",
       "      <td>183</td>\n",
       "      <td>2.11</td>\n",
       "    </tr>\n",
       "    <tr>\n",
       "      <th>ShoppingMall</th>\n",
       "      <td>208</td>\n",
       "      <td>2.39</td>\n",
       "    </tr>\n",
       "    <tr>\n",
       "      <th>Spa</th>\n",
       "      <td>183</td>\n",
       "      <td>2.11</td>\n",
       "    </tr>\n",
       "    <tr>\n",
       "      <th>VRDeck</th>\n",
       "      <td>188</td>\n",
       "      <td>2.16</td>\n",
       "    </tr>\n",
       "    <tr>\n",
       "      <th>Name</th>\n",
       "      <td>200</td>\n",
       "      <td>2.30</td>\n",
       "    </tr>\n",
       "    <tr>\n",
       "      <th>Transported</th>\n",
       "      <td>0</td>\n",
       "      <td>0.00</td>\n",
       "    </tr>\n",
       "  </tbody>\n",
       "</table>\n",
       "</div>"
      ]
     },
     "execution_count": 7,
     "metadata": {},
     "output_type": "execute_result"
    }
   ],
   "execution_count": 7
  },
  {
   "metadata": {},
   "cell_type": "markdown",
   "source": "## 2.4. Values",
   "id": "e243ad442d45c8fb"
  },
  {
   "metadata": {
    "ExecuteTime": {
     "end_time": "2024-10-22T19:41:28.019443Z",
     "start_time": "2024-10-22T19:41:28.011448Z"
    }
   },
   "cell_type": "code",
   "source": "spaceship_train.describe()",
   "id": "6e7760e0990532d",
   "outputs": [
    {
     "data": {
      "text/plain": [
       "               Age   RoomService     FoodCourt  ShoppingMall           Spa  \\\n",
       "count  8514.000000   8512.000000   8510.000000   8485.000000   8510.000000   \n",
       "mean     28.827930    224.687617    458.077203    173.729169    311.138778   \n",
       "std      14.489021    666.717663   1611.489240    604.696458   1136.705535   \n",
       "min       0.000000      0.000000      0.000000      0.000000      0.000000   \n",
       "25%      19.000000      0.000000      0.000000      0.000000      0.000000   \n",
       "50%      27.000000      0.000000      0.000000      0.000000      0.000000   \n",
       "75%      38.000000     47.000000     76.000000     27.000000     59.000000   \n",
       "max      79.000000  14327.000000  29813.000000  23492.000000  22408.000000   \n",
       "\n",
       "             VRDeck  \n",
       "count   8505.000000  \n",
       "mean     304.854791  \n",
       "std     1145.717189  \n",
       "min        0.000000  \n",
       "25%        0.000000  \n",
       "50%        0.000000  \n",
       "75%       46.000000  \n",
       "max    24133.000000  "
      ],
      "text/html": [
       "<div>\n",
       "<style scoped>\n",
       "    .dataframe tbody tr th:only-of-type {\n",
       "        vertical-align: middle;\n",
       "    }\n",
       "\n",
       "    .dataframe tbody tr th {\n",
       "        vertical-align: top;\n",
       "    }\n",
       "\n",
       "    .dataframe thead th {\n",
       "        text-align: right;\n",
       "    }\n",
       "</style>\n",
       "<table border=\"1\" class=\"dataframe\">\n",
       "  <thead>\n",
       "    <tr style=\"text-align: right;\">\n",
       "      <th></th>\n",
       "      <th>Age</th>\n",
       "      <th>RoomService</th>\n",
       "      <th>FoodCourt</th>\n",
       "      <th>ShoppingMall</th>\n",
       "      <th>Spa</th>\n",
       "      <th>VRDeck</th>\n",
       "    </tr>\n",
       "  </thead>\n",
       "  <tbody>\n",
       "    <tr>\n",
       "      <th>count</th>\n",
       "      <td>8514.000000</td>\n",
       "      <td>8512.000000</td>\n",
       "      <td>8510.000000</td>\n",
       "      <td>8485.000000</td>\n",
       "      <td>8510.000000</td>\n",
       "      <td>8505.000000</td>\n",
       "    </tr>\n",
       "    <tr>\n",
       "      <th>mean</th>\n",
       "      <td>28.827930</td>\n",
       "      <td>224.687617</td>\n",
       "      <td>458.077203</td>\n",
       "      <td>173.729169</td>\n",
       "      <td>311.138778</td>\n",
       "      <td>304.854791</td>\n",
       "    </tr>\n",
       "    <tr>\n",
       "      <th>std</th>\n",
       "      <td>14.489021</td>\n",
       "      <td>666.717663</td>\n",
       "      <td>1611.489240</td>\n",
       "      <td>604.696458</td>\n",
       "      <td>1136.705535</td>\n",
       "      <td>1145.717189</td>\n",
       "    </tr>\n",
       "    <tr>\n",
       "      <th>min</th>\n",
       "      <td>0.000000</td>\n",
       "      <td>0.000000</td>\n",
       "      <td>0.000000</td>\n",
       "      <td>0.000000</td>\n",
       "      <td>0.000000</td>\n",
       "      <td>0.000000</td>\n",
       "    </tr>\n",
       "    <tr>\n",
       "      <th>25%</th>\n",
       "      <td>19.000000</td>\n",
       "      <td>0.000000</td>\n",
       "      <td>0.000000</td>\n",
       "      <td>0.000000</td>\n",
       "      <td>0.000000</td>\n",
       "      <td>0.000000</td>\n",
       "    </tr>\n",
       "    <tr>\n",
       "      <th>50%</th>\n",
       "      <td>27.000000</td>\n",
       "      <td>0.000000</td>\n",
       "      <td>0.000000</td>\n",
       "      <td>0.000000</td>\n",
       "      <td>0.000000</td>\n",
       "      <td>0.000000</td>\n",
       "    </tr>\n",
       "    <tr>\n",
       "      <th>75%</th>\n",
       "      <td>38.000000</td>\n",
       "      <td>47.000000</td>\n",
       "      <td>76.000000</td>\n",
       "      <td>27.000000</td>\n",
       "      <td>59.000000</td>\n",
       "      <td>46.000000</td>\n",
       "    </tr>\n",
       "    <tr>\n",
       "      <th>max</th>\n",
       "      <td>79.000000</td>\n",
       "      <td>14327.000000</td>\n",
       "      <td>29813.000000</td>\n",
       "      <td>23492.000000</td>\n",
       "      <td>22408.000000</td>\n",
       "      <td>24133.000000</td>\n",
       "    </tr>\n",
       "  </tbody>\n",
       "</table>\n",
       "</div>"
      ]
     },
     "execution_count": 8,
     "metadata": {},
     "output_type": "execute_result"
    }
   ],
   "execution_count": 8
  },
  {
   "metadata": {
    "ExecuteTime": {
     "end_time": "2024-10-22T19:41:28.032892Z",
     "start_time": "2024-10-22T19:41:28.020051Z"
    }
   },
   "cell_type": "code",
   "source": "spaceship_train.describe(include=['object', 'bool'])",
   "id": "8808df2e4546fdee",
   "outputs": [
    {
     "data": {
      "text/plain": [
       "       PassengerId HomePlanet CryoSleep    Cabin  Destination    VIP  \\\n",
       "count         8693       8492      8476     8494         8511   8490   \n",
       "unique        8693          3         2     6560            3      2   \n",
       "top        0001_01      Earth     False  G/734/S  TRAPPIST-1e  False   \n",
       "freq             1       4602      5439        8         5915   8291   \n",
       "\n",
       "                  Name Transported  \n",
       "count             8493        8693  \n",
       "unique            8473           2  \n",
       "top     Gollux Reedall        True  \n",
       "freq                 2        4378  "
      ],
      "text/html": [
       "<div>\n",
       "<style scoped>\n",
       "    .dataframe tbody tr th:only-of-type {\n",
       "        vertical-align: middle;\n",
       "    }\n",
       "\n",
       "    .dataframe tbody tr th {\n",
       "        vertical-align: top;\n",
       "    }\n",
       "\n",
       "    .dataframe thead th {\n",
       "        text-align: right;\n",
       "    }\n",
       "</style>\n",
       "<table border=\"1\" class=\"dataframe\">\n",
       "  <thead>\n",
       "    <tr style=\"text-align: right;\">\n",
       "      <th></th>\n",
       "      <th>PassengerId</th>\n",
       "      <th>HomePlanet</th>\n",
       "      <th>CryoSleep</th>\n",
       "      <th>Cabin</th>\n",
       "      <th>Destination</th>\n",
       "      <th>VIP</th>\n",
       "      <th>Name</th>\n",
       "      <th>Transported</th>\n",
       "    </tr>\n",
       "  </thead>\n",
       "  <tbody>\n",
       "    <tr>\n",
       "      <th>count</th>\n",
       "      <td>8693</td>\n",
       "      <td>8492</td>\n",
       "      <td>8476</td>\n",
       "      <td>8494</td>\n",
       "      <td>8511</td>\n",
       "      <td>8490</td>\n",
       "      <td>8493</td>\n",
       "      <td>8693</td>\n",
       "    </tr>\n",
       "    <tr>\n",
       "      <th>unique</th>\n",
       "      <td>8693</td>\n",
       "      <td>3</td>\n",
       "      <td>2</td>\n",
       "      <td>6560</td>\n",
       "      <td>3</td>\n",
       "      <td>2</td>\n",
       "      <td>8473</td>\n",
       "      <td>2</td>\n",
       "    </tr>\n",
       "    <tr>\n",
       "      <th>top</th>\n",
       "      <td>0001_01</td>\n",
       "      <td>Earth</td>\n",
       "      <td>False</td>\n",
       "      <td>G/734/S</td>\n",
       "      <td>TRAPPIST-1e</td>\n",
       "      <td>False</td>\n",
       "      <td>Gollux Reedall</td>\n",
       "      <td>True</td>\n",
       "    </tr>\n",
       "    <tr>\n",
       "      <th>freq</th>\n",
       "      <td>1</td>\n",
       "      <td>4602</td>\n",
       "      <td>5439</td>\n",
       "      <td>8</td>\n",
       "      <td>5915</td>\n",
       "      <td>8291</td>\n",
       "      <td>2</td>\n",
       "      <td>4378</td>\n",
       "    </tr>\n",
       "  </tbody>\n",
       "</table>\n",
       "</div>"
      ]
     },
     "execution_count": 9,
     "metadata": {},
     "output_type": "execute_result"
    }
   ],
   "execution_count": 9
  },
  {
   "metadata": {},
   "cell_type": "markdown",
   "source": "# 3. EDA",
   "id": "1a1c918241d89335"
  },
  {
   "metadata": {},
   "cell_type": "markdown",
   "source": "## 3.1. Distribution",
   "id": "51e5a4a20b66989f"
  },
  {
   "metadata": {
    "ExecuteTime": {
     "end_time": "2024-10-22T19:41:28.037097Z",
     "start_time": "2024-10-22T19:41:28.034409Z"
    }
   },
   "cell_type": "code",
   "source": [
    "spaceship_eda = spaceship_train.copy()\n",
    "\n",
    "target_name = 'Transported'\n",
    "data, target = (spaceship_eda.drop(columns=[target_name]), \n",
    "                spaceship_eda[target_name])"
   ],
   "id": "6ef77eece738f370",
   "outputs": [],
   "execution_count": 10
  },
  {
   "metadata": {
    "ExecuteTime": {
     "end_time": "2024-10-22T19:41:28.039674Z",
     "start_time": "2024-10-22T19:41:28.037709Z"
    }
   },
   "cell_type": "code",
   "source": [
    "categorical_columns_selector = selector(dtype_exclude='float64')\n",
    "numerical_columns_selector = selector(dtype_include='float64')\n",
    "\n",
    "categorical_columns = categorical_columns_selector(data)\n",
    "categorical_columns.remove('PassengerId')\n",
    "numerical_columns = numerical_columns_selector(data)"
   ],
   "id": "b3b758f48283040",
   "outputs": [],
   "execution_count": 11
  },
  {
   "metadata": {},
   "cell_type": "markdown",
   "source": "**Numerical Features**",
   "id": "bde8b236e068990f"
  },
  {
   "metadata": {
    "ExecuteTime": {
     "end_time": "2024-10-22T19:41:28.628408Z",
     "start_time": "2024-10-22T19:41:28.040254Z"
    }
   },
   "cell_type": "code",
   "source": [
    "fig, axes = plt.subplots(nrows=1, ncols=2, figsize=(15, 7), sharex=True)\n",
    "\n",
    "violin_boxplot(data=spaceship_eda[spaceship_eda.Transported == True], \n",
    "               columns=numerical_columns, title='stroke - True', ax=axes[1])\n",
    "violin_boxplot(data=spaceship_eda[spaceship_eda.Transported == False], \n",
    "               columns=numerical_columns, title='stroke - False', ax=axes[0])\n",
    "\n",
    "plt.tight_layout()\n",
    "plt.show()"
   ],
   "id": "e9eca75d6a4d5868",
   "outputs": [
    {
     "data": {
      "text/plain": [
       "<Figure size 1500x700 with 2 Axes>"
      ],
      "image/png": "[encoded data removed]"
     },
     "metadata": {},
     "output_type": "display_data"
    }
   ],
   "execution_count": 12
  },
  {
   "metadata": {
    "ExecuteTime": {
     "end_time": "2024-10-22T19:41:28.966238Z",
     "start_time": "2024-10-22T19:41:28.629085Z"
    }
   },
   "cell_type": "code",
   "source": [
    "fig, axes = plt.subplots(nrows=1, ncols=2, figsize=(15, 7), sharex=True)\n",
    "\n",
    "violin_boxplot(data=spaceship_eda[spaceship_eda.Transported == True], \n",
    "               columns=numerical_columns, title='stroke - True', \n",
    "               xlim=(0, 5000), ax=axes[1])\n",
    "violin_boxplot(data=spaceship_eda[spaceship_eda.Transported == False], \n",
    "               columns=numerical_columns, title='stroke - False',\n",
    "               xlim=(0, 5000), ax=axes[0])\n",
    "\n",
    "plt.tight_layout()\n",
    "plt.show()"
   ],
   "id": "21ca4f46ceee8d60",
   "outputs": [
    {
     "ename": "TypeError",
     "evalue": "violin_boxplot() got an unexpected keyword argument 'xlim'",
     "output_type": "error",
     "traceback": [
      "\u001B[0;31m---------------------------------------------------------------------------\u001B[0m",
      "\u001B[0;31mTypeError\u001B[0m                                 Traceback (most recent call last)",
      "Cell \u001B[0;32mIn[13], line 3\u001B[0m\n\u001B[1;32m      1\u001B[0m fig, axes \u001B[38;5;241m=\u001B[39m plt\u001B[38;5;241m.\u001B[39msubplots(nrows\u001B[38;5;241m=\u001B[39m\u001B[38;5;241m1\u001B[39m, ncols\u001B[38;5;241m=\u001B[39m\u001B[38;5;241m2\u001B[39m, figsize\u001B[38;5;241m=\u001B[39m(\u001B[38;5;241m15\u001B[39m, \u001B[38;5;241m7\u001B[39m), sharex\u001B[38;5;241m=\u001B[39m\u001B[38;5;28;01mTrue\u001B[39;00m)\n\u001B[0;32m----> 3\u001B[0m \u001B[43mviolin_boxplot\u001B[49m\u001B[43m(\u001B[49m\u001B[43mdata\u001B[49m\u001B[38;5;241;43m=\u001B[39;49m\u001B[43mspaceship_eda\u001B[49m\u001B[43m[\u001B[49m\u001B[43mspaceship_eda\u001B[49m\u001B[38;5;241;43m.\u001B[39;49m\u001B[43mTransported\u001B[49m\u001B[43m \u001B[49m\u001B[38;5;241;43m==\u001B[39;49m\u001B[43m \u001B[49m\u001B[38;5;28;43;01mTrue\u001B[39;49;00m\u001B[43m]\u001B[49m\u001B[43m,\u001B[49m\u001B[43m \u001B[49m\n\u001B[1;32m      4\u001B[0m \u001B[43m               \u001B[49m\u001B[43mcolumns\u001B[49m\u001B[38;5;241;43m=\u001B[39;49m\u001B[43mnumerical_columns\u001B[49m\u001B[43m,\u001B[49m\u001B[43m \u001B[49m\u001B[43mtitle\u001B[49m\u001B[38;5;241;43m=\u001B[39;49m\u001B[38;5;124;43m'\u001B[39;49m\u001B[38;5;124;43mstroke - True\u001B[39;49m\u001B[38;5;124;43m'\u001B[39;49m\u001B[43m,\u001B[49m\u001B[43m \u001B[49m\n\u001B[1;32m      5\u001B[0m \u001B[43m               \u001B[49m\u001B[43mxlim\u001B[49m\u001B[38;5;241;43m=\u001B[39;49m\u001B[43m(\u001B[49m\u001B[38;5;241;43m0\u001B[39;49m\u001B[43m,\u001B[49m\u001B[43m \u001B[49m\u001B[38;5;241;43m5000\u001B[39;49m\u001B[43m)\u001B[49m\u001B[43m,\u001B[49m\u001B[43m \u001B[49m\u001B[43max\u001B[49m\u001B[38;5;241;43m=\u001B[39;49m\u001B[43maxes\u001B[49m\u001B[43m[\u001B[49m\u001B[38;5;241;43m1\u001B[39;49m\u001B[43m]\u001B[49m\u001B[43m)\u001B[49m\n\u001B[1;32m      6\u001B[0m violin_boxplot(data\u001B[38;5;241m=\u001B[39mspaceship_eda[spaceship_eda\u001B[38;5;241m.\u001B[39mTransported \u001B[38;5;241m==\u001B[39m \u001B[38;5;28;01mFalse\u001B[39;00m], \n\u001B[1;32m      7\u001B[0m                columns\u001B[38;5;241m=\u001B[39mnumerical_columns, title\u001B[38;5;241m=\u001B[39m\u001B[38;5;124m'\u001B[39m\u001B[38;5;124mstroke - False\u001B[39m\u001B[38;5;124m'\u001B[39m,\n\u001B[1;32m      8\u001B[0m                xlim\u001B[38;5;241m=\u001B[39m(\u001B[38;5;241m0\u001B[39m, \u001B[38;5;241m5000\u001B[39m), ax\u001B[38;5;241m=\u001B[39maxes[\u001B[38;5;241m0\u001B[39m])\n\u001B[1;32m     10\u001B[0m plt\u001B[38;5;241m.\u001B[39mtight_layout()\n",
      "\u001B[0;31mTypeError\u001B[0m: violin_boxplot() got an unexpected keyword argument 'xlim'"
     ]
    },
    {
     "data": {
      "text/plain": [
       "<Figure size 1500x700 with 2 Axes>"
      ],
      "image/png": "[encoded data removed]"
     },
     "metadata": {},
     "output_type": "display_data"
    }
   ],
   "execution_count": 13
  },
  {
   "metadata": {
    "ExecuteTime": {
     "end_time": "2024-10-22T19:41:28.967119Z",
     "start_time": "2024-10-22T19:41:28.967071Z"
    }
   },
   "cell_type": "code",
   "source": [
    "plt.figure(figsize=(10,5))\n",
    "violin_boxplot(data=data, columns='Age', title='Age Violin Box Plot')\n",
    "plt.show()"
   ],
   "id": "b354cee3158eaacf",
   "outputs": [],
   "execution_count": null
  },
  {
   "metadata": {},
   "cell_type": "markdown",
   "source": "**Categorical Features**",
   "id": "66d36088d3caceb3"
  },
  {
   "metadata": {
    "ExecuteTime": {
     "end_time": "2024-10-22T19:41:28.968485Z",
     "start_time": "2024-10-22T19:41:28.968145Z"
    }
   },
   "cell_type": "code",
   "source": "categorical_columns",
   "id": "707b3a95dd2f8bd4",
   "outputs": [],
   "execution_count": null
  },
  {
   "metadata": {
    "ExecuteTime": {
     "end_time": "2024-10-22T19:41:28.969290Z",
     "start_time": "2024-10-22T19:41:28.969188Z"
    }
   },
   "cell_type": "code",
   "source": [
    "percentage_subplots(data=data, columns=categorical_columns, title='Categorical '\n",
    "                                                             'data '\n",
    "                                                             'Distribution',\n",
    "               nrows=3, ncols=2)"
   ],
   "id": "52d031828f1992f8",
   "outputs": [],
   "execution_count": null
  },
  {
   "metadata": {},
   "cell_type": "markdown",
   "source": [
    "correlation:\n",
    "pearsons correlation within numerical features\n",
    "spearmans correlation within True/False features (multi category features?)\n",
    "VIF (multicollinearity)\n",
    "\n",
    "correlation feature vs target:\n",
    "spearmans (univariate)\n",
    "mutual information (univariate)\n",
    "boruta (multivariate)\n",
    "\n",
    "\n",
    "statistical inference:\n",
    "chi-square/ t test with features vs target\n",
    "any other special finds from correlation"
   ],
   "id": "a1541bbbe3aec1e2"
  },
  {
   "metadata": {},
   "cell_type": "markdown",
   "source": [
    "1. extract information from 'PassengerId' (how many passengers in the groups)\n",
    "2. extract from 'cabin' (3 features - deck, num, side)"
   ],
   "id": "c07049aaf0e08697"
  }
 ],
 "metadata": {
  "kernelspec": {
   "display_name": "Python 3",
   "language": "python",
   "name": "python3"
  },
  "language_info": {
   "codemirror_mode": {
    "name": "ipython",
    "version": 2
   },
   "file_extension": ".py",
   "mimetype": "text/x-python",
   "name": "python",
   "nbconvert_exporter": "python",
   "pygments_lexer": "ipython2",
   "version": "2.7.6"
  }
 },
 "nbformat": 4,
 "nbformat_minor": 5
}
